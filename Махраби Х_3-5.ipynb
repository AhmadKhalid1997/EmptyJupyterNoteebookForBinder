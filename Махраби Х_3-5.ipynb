{
 "cells": [
  {
   "cell_type": "code",
   "execution_count": null,
   "metadata": {},
   "outputs": [],
   "source": [
    "Каккой тип данных: список, кортеж или словарь — вы считаете правильным использовать для указанных ниже данных и почему:\n",
    "a)список студентов в группе - тип данных список, можно добавлять студентов в любое место списка и также удалять, если кого-то, напримр, отчислили\n",
    "b)список оценок студента,- можно использовать список, хранящий списки, где порядок оценок по дисципоинам заране известн,\n",
    "                        в соотвествии списку группы,либо словарь, где в качестве ключа используется номер зачетки,\n",
    "                        а в качестве значний список оценок\n",
    "        Если для одного студента, то в качестве ключа наименование или код дисциплины, в качестве значения - оценка\n",
    "c)данные студента: ФИО, адрес, дата рождения- тип данных словарь, в качестве ключа удобно использовать номер зачетки студнта,\n",
    "                                                а в качестве значний спискок ФИО, адрес, дата рождения-\n",
    "                                                так как при нобходимости, можно внести изменения, например, в адрес"
   ]
  },
  {
   "cell_type": "code",
   "execution_count": null,
   "metadata": {},
   "outputs": [],
   "source": [
    "Напишите функцию, которая принимает на вход список натуральных чисел и возвращает словарь,\n",
    "в котором ключами являются элементы входного списка, а значениями — кортежи простых чисел, меньших или равных ключу."
   ]
  },
  {
   "cell_type": "code",
   "execution_count": 1,
   "metadata": {},
   "outputs": [
    {
     "name": "stdout",
     "output_type": "stream",
     "text": [
      "{0: [], 1: [], 2: [2], 3: [2, 3], 4: [2, 3], 5: [2, 3, 5], 6: [2, 3, 5], 7: [2, 3, 5, 7], 8: [2, 3, 5, 7], 9: [2, 3, 5, 7], 20: [2, 3, 5, 7, 11, 13, 17, 19]}\n"
     ]
    }
   ],
   "source": [
    "\n",
    "def is_prime(n):\n",
    "    num_list = []\n",
    "    flag = 1\n",
    "    for num in range(2,n+1):\n",
    "        for i in range(2,round(num**0.5) + 1):\n",
    "            if num % i ==  0:\n",
    "                flag = 0\n",
    "                break;\n",
    "        if flag is 1:\n",
    "            num_list.append(num)\n",
    "        flag = 1\n",
    "    return num_list\n",
    "\n",
    "\n",
    "def list_to_dict(my_list):\n",
    "    return {i : is_prime(i) for i in my_list}\n",
    "\n",
    "\n",
    "l = [0, 1, 2, 3, 4, 5, 6, 7, 8, 9, 20]\n",
    "print(list_to_dict(l))"
   ]
  },
  {
   "cell_type": "code",
   "execution_count": null,
   "metadata": {},
   "outputs": [],
   "source": []
  }
 ],
 "metadata": {
  "kernelspec": {
   "display_name": "Python 3",
   "language": "python",
   "name": "python3"
  },
  "language_info": {
   "codemirror_mode": {
    "name": "ipython",
    "version": 3
   },
   "file_extension": ".py",
   "mimetype": "text/x-python",
   "name": "python",
   "nbconvert_exporter": "python",
   "pygments_lexer": "ipython3",
   "version": "3.7.6"
  }
 },
 "nbformat": 4,
 "nbformat_minor": 2
}
