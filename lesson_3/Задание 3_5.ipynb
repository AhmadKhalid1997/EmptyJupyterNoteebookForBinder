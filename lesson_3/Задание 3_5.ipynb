{
 "cells": [
  {
   "cell_type": "code",
   "execution_count": 25,
   "metadata": {
    "pycharm": {
     "is_executing": false
    }
   },
   "outputs": [
    {
     "name": "stdout",
     "text": [
      "{0: [], 1: [], 2: [2], 3: [2, 3], 4: [2, 3], 5: [2, 3, 5], 6: [2, 3, 5], 7: [2, 3, 5, 7], 8: [2, 3, 5, 7], 9: [2, 3, 5, 7, 9], 10: [2, 3, 5, 7, 9]}\n"
     ],
     "output_type": "stream"
    }
   ],
   "source": [
    "def is_prime(n):\n",
    "    num_list = [*range(2,n+1)]\n",
    "    for num in num_list:\n",
    "        for i in range(2,round(num**0.5) + 1):\n",
    "            if num % i ==  0:\n",
    "                num_list.remove(num)\n",
    "                break;\n",
    "    return num_list\n",
    "\n",
    "\n",
    "def list_to_dict(my_list):\n",
    "    return {i : is_prime(i) for i in my_list}\n",
    "\n",
    "\n",
    "l = [0, 1, 2, 3, 4, 5, 6, 7, 8, 9, 10]\n",
    "print(list_to_dict(l))"
   ]
  },
  {
   "cell_type": "code",
   "execution_count": 25,
   "metadata": {
    "pycharm": {
     "is_executing": false,
     "name": "#%%"
    }
   },
   "outputs": [],
   "source": []
  }
 ],
 "metadata": {
  "kernelspec": {
   "display_name": "Python 3",
   "language": "python",
   "name": "python3"
  },
  "language_info": {
   "codemirror_mode": {
    "name": "ipython",
    "version": 3
   },
   "file_extension": ".py",
   "mimetype": "text/x-python",
   "name": "python",
   "nbconvert_exporter": "python",
   "pygments_lexer": "ipython3",
   "version": "3.7.6"
  },
  "pycharm": {
   "stem_cell": {
    "cell_type": "raw",
    "source": [],
    "metadata": {
     "collapsed": false
    }
   }
  }
 },
 "nbformat": 4,
 "nbformat_minor": 4
}