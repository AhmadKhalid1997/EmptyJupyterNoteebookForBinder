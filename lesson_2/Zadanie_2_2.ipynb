{
 "cells": [
  {
   "cell_type": "code",
   "execution_count": 1,
   "metadata": {},
   "outputs": [],
   "source": [
    "y = 25\n",
    "x = 10"
   ]
  },
  {
   "cell_type": "code",
   "execution_count": 5,
   "metadata": {},
   "outputs": [
    {
     "name": "stdout",
     "output_type": "stream",
     "text": [
      "Сложение: 35, Вычитание: -15, Умножение: 250, Деление: 0.4\n"
     ]
    }
   ],
   "source": [
    "c = x + y\n",
    "c2 = x - y\n",
    "c3 = x * y\n",
    "c4 = x / y\n",
    "print(\"Сложение: \"+str(c)+\", Вычитание: \"+str(c2)+\", Умножение: \"+str(c3)+\", Деление: \"+str(c4))"
   ]
  },
  {
   "cell_type": "code",
   "execution_count": 6,
   "metadata": {},
   "outputs": [
    {
     "name": "stdout",
     "output_type": "stream",
     "text": [
      "4.918032786885246\n"
     ]
    }
   ],
   "source": [
    "c5=((x**2+y)*(y-1))/(x-y+y**2)\n",
    "print(c5)"
   ]
  }
 ],
 "metadata": {
  "kernelspec": {
   "display_name": "Python 3",
   "language": "python",
   "name": "python3"
  },
  "language_info": {
   "codemirror_mode": {
    "name": "ipython",
    "version": 3
   },
   "file_extension": ".py",
   "mimetype": "text/x-python",
   "name": "python",
   "nbconvert_exporter": "python",
   "pygments_lexer": "ipython3",
   "version": "3.7.6"
  }
 },
 "nbformat": 4,
 "nbformat_minor": 2
}
