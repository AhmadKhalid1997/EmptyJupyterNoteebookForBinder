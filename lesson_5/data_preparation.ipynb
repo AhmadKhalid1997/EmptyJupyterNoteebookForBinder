{
 "cells": [
  {
   "cell_type": "code",
   "execution_count": 103,
   "metadata": {
    "scrolled": false,
    "pycharm": {
     "is_executing": false
    }
   },
   "outputs": [],
   "source": [
    "# Загрузка зависимостей\n",
    "import numpy\n",
    "import pandas\n",
    "import matplotlib.pyplot\n",
    "from sklearn.preprocessing import StandardScaler\n",
    "from sklearn.preprocessing import MinMaxScaler"
   ]
  },
  {
   "cell_type": "code",
   "execution_count": 104,
   "metadata": {
    "scrolled": true,
    "pycharm": {
     "is_executing": false
    }
   },
   "outputs": [
    {
     "data": {
      "text/plain": "         0         1    2      3      4    5   6    7     8     9\n0  adviser     32/60  125    256   6000  256  16  128   198   199\n1   amdahl    470v/7   29   8000  32000   32   8   32   269   253\n2   amdahl   470v/7a   29   8000  32000   32   8   32   220   253\n3   amdahl   470v/7b   29   8000  32000   32   8   32   172   253\n4   amdahl   470v/7c   29   8000  16000   32   8   16   132   132\n5   amdahl    470v/b   26   8000  32000   64   8   32   318   290\n6   amdahl  580-5840   23  16000  32000   64  16   32   367   381\n7   amdahl  580-5850   23  16000  32000   64  16   32   489   381\n8   amdahl  580-5860   23  16000  64000   64  16   32   636   749\n9   amdahl  580-5880   23  32000  64000  128  32   64  1144  1238",
      "text/html": "<div>\n<style scoped>\n    .dataframe tbody tr th:only-of-type {\n        vertical-align: middle;\n    }\n\n    .dataframe tbody tr th {\n        vertical-align: top;\n    }\n\n    .dataframe thead th {\n        text-align: right;\n    }\n</style>\n<table border=\"1\" class=\"dataframe\">\n  <thead>\n    <tr style=\"text-align: right;\">\n      <th></th>\n      <th>0</th>\n      <th>1</th>\n      <th>2</th>\n      <th>3</th>\n      <th>4</th>\n      <th>5</th>\n      <th>6</th>\n      <th>7</th>\n      <th>8</th>\n      <th>9</th>\n    </tr>\n  </thead>\n  <tbody>\n    <tr>\n      <th>0</th>\n      <td>adviser</td>\n      <td>32/60</td>\n      <td>125</td>\n      <td>256</td>\n      <td>6000</td>\n      <td>256</td>\n      <td>16</td>\n      <td>128</td>\n      <td>198</td>\n      <td>199</td>\n    </tr>\n    <tr>\n      <th>1</th>\n      <td>amdahl</td>\n      <td>470v/7</td>\n      <td>29</td>\n      <td>8000</td>\n      <td>32000</td>\n      <td>32</td>\n      <td>8</td>\n      <td>32</td>\n      <td>269</td>\n      <td>253</td>\n    </tr>\n    <tr>\n      <th>2</th>\n      <td>amdahl</td>\n      <td>470v/7a</td>\n      <td>29</td>\n      <td>8000</td>\n      <td>32000</td>\n      <td>32</td>\n      <td>8</td>\n      <td>32</td>\n      <td>220</td>\n      <td>253</td>\n    </tr>\n    <tr>\n      <th>3</th>\n      <td>amdahl</td>\n      <td>470v/7b</td>\n      <td>29</td>\n      <td>8000</td>\n      <td>32000</td>\n      <td>32</td>\n      <td>8</td>\n      <td>32</td>\n      <td>172</td>\n      <td>253</td>\n    </tr>\n    <tr>\n      <th>4</th>\n      <td>amdahl</td>\n      <td>470v/7c</td>\n      <td>29</td>\n      <td>8000</td>\n      <td>16000</td>\n      <td>32</td>\n      <td>8</td>\n      <td>16</td>\n      <td>132</td>\n      <td>132</td>\n    </tr>\n    <tr>\n      <th>5</th>\n      <td>amdahl</td>\n      <td>470v/b</td>\n      <td>26</td>\n      <td>8000</td>\n      <td>32000</td>\n      <td>64</td>\n      <td>8</td>\n      <td>32</td>\n      <td>318</td>\n      <td>290</td>\n    </tr>\n    <tr>\n      <th>6</th>\n      <td>amdahl</td>\n      <td>580-5840</td>\n      <td>23</td>\n      <td>16000</td>\n      <td>32000</td>\n      <td>64</td>\n      <td>16</td>\n      <td>32</td>\n      <td>367</td>\n      <td>381</td>\n    </tr>\n    <tr>\n      <th>7</th>\n      <td>amdahl</td>\n      <td>580-5850</td>\n      <td>23</td>\n      <td>16000</td>\n      <td>32000</td>\n      <td>64</td>\n      <td>16</td>\n      <td>32</td>\n      <td>489</td>\n      <td>381</td>\n    </tr>\n    <tr>\n      <th>8</th>\n      <td>amdahl</td>\n      <td>580-5860</td>\n      <td>23</td>\n      <td>16000</td>\n      <td>64000</td>\n      <td>64</td>\n      <td>16</td>\n      <td>32</td>\n      <td>636</td>\n      <td>749</td>\n    </tr>\n    <tr>\n      <th>9</th>\n      <td>amdahl</td>\n      <td>580-5880</td>\n      <td>23</td>\n      <td>32000</td>\n      <td>64000</td>\n      <td>128</td>\n      <td>32</td>\n      <td>64</td>\n      <td>1144</td>\n      <td>1238</td>\n    </tr>\n  </tbody>\n</table>\n</div>"
     },
     "metadata": {},
     "output_type": "execute_result",
     "execution_count": 104
    }
   ],
   "source": [
    "# Загрузка и анализ набора данных\n",
    "row_dataset = pandas.read_csv('machine.data.csv', header=None) # Убедиться в правильности пути к файлу!\n",
    "row_dataset.head(10) # Вывод первых 10 строк"
   ]
  },
  {
   "cell_type": "code",
   "execution_count": 105,
   "outputs": [
    {
     "name": "stdout",
     "text": [
      "(209, 10)\n"
     ],
     "output_type": "stream"
    }
   ],
   "source": [
    "# Размер набора данных\n",
    "print(row_dataset.shape)"
   ],
   "metadata": {
    "collapsed": false,
    "pycharm": {
     "name": "#%%\n",
     "is_executing": false
    }
   }
  },
  {
   "cell_type": "code",
   "execution_count": 106,
   "outputs": [],
   "source": [
    "# Создаем набор данных, в котором будут храниться обработанные данные\n",
    "dataset = pandas.DataFrame()"
   ],
   "metadata": {
    "collapsed": false,
    "pycharm": {
     "name": "#%%\n",
     "is_executing": false
    }
   }
  },
  {
   "cell_type": "code",
   "execution_count": 107,
   "metadata": {
    "scrolled": true,
    "pycharm": {
     "is_executing": false
    }
   },
   "outputs": [
    {
     "data": {
      "text/plain": "<Figure size 432x288 with 1 Axes>",
      "image/png": "[encoded data removed]"
     },
     "metadata": {
      "needs_background": "light"
     },
     "output_type": "display_data"
    }
   ],
   "source": [
    "# Обработка данных в столбце №3 (MMIN: minimum main memory in kilobytes (integer))\n",
    "\n",
    "# Загружаем данные\n",
    "data = row_dataset[3]\n",
    "\n",
    "# Анализируем распределение, используя гистограмму. Параметр bins отвечает за число столбцов в гистрограмме.\n",
    "matplotlib.pyplot.hist(data, bins = 50)\n",
    "matplotlib.pyplot.show()"
   ]
  },
  {
   "cell_type": "code",
   "execution_count": 108,
   "metadata": {
    "scrolled": false,
    "pycharm": {
     "is_executing": false
    }
   },
   "outputs": [
    {
     "data": {
      "text/plain": "<Figure size 432x288 with 1 Axes>",
      "image/png": "[encoded data removed]"
     },
     "metadata": {
      "needs_background": "light"
     },
     "output_type": "display_data"
    }
   ],
   "source": [
    "# Наблюдаем проблему №4 - выброс в районе 32000. Применяем отсечение с разрешенным интервалом от 0 до 16000.\n",
    "data = numpy.clip(data, 0, 16000)\n",
    "\n",
    "# Результат\n",
    "matplotlib.pyplot.hist(data, bins = 50)\n",
    "matplotlib.pyplot.show()"
   ]
  },
  {
   "cell_type": "code",
   "execution_count": 109,
   "metadata": {
    "scrolled": true,
    "pycharm": {
     "is_executing": false
    }
   },
   "outputs": [
    {
     "data": {
      "text/plain": "<Figure size 432x288 with 1 Axes>",
      "image/png": "[encoded data removed]"
     },
     "metadata": {
      "needs_background": "light"
     },
     "output_type": "display_data"
    },
    {
     "data": {
      "text/plain": "<Figure size 432x288 with 1 Axes>",
      "image/png": "[encoded data removed]"
     },
     "metadata": {
      "needs_background": "light"
     },
     "output_type": "display_data"
    }
   ],
   "source": [
    "# Наблюдаем проблему №3 - очень неравномерное распределение. Попробуем применить к данным логарифм и извлечение квадратного корня.\n",
    "matplotlib.pyplot.hist(numpy.log(data), bins = 50)\n",
    "matplotlib.pyplot.show()\n",
    "\n",
    "matplotlib.pyplot.hist(data ** 0.5, bins = 50)\n",
    "matplotlib.pyplot.show()"
   ]
  },
  {
   "cell_type": "code",
   "execution_count": 110,
   "metadata": {
    "pycharm": {
     "is_executing": false
    }
   },
   "outputs": [],
   "source": [
    "# Логарифм даёт более равномерно распределенные данные, используем его\n",
    "data = numpy.log(data)"
   ]
  },
  {
   "cell_type": "code",
   "execution_count": 111,
   "metadata": {
    "scrolled": true,
    "pycharm": {
     "is_executing": false
    }
   },
   "outputs": [
    {
     "name": "stdout",
     "text": [
      "4.1588830833596715\n",
      "9.680344001221918\n"
     ],
     "output_type": "stream"
    }
   ],
   "source": [
    "# Теперь данные имеют следующую область значений\n",
    "print(numpy.min(data))\n",
    "print(numpy.max(data))"
   ]
  },
  {
   "cell_type": "code",
   "execution_count": 112,
   "metadata": {
    "pycharm": {
     "is_executing": false
    }
   },
   "outputs": [],
   "source": [
    "# Приводим значения к интервалу (0, 1), считая, что они ближе к равномерному распределению\n",
    "scaler = MinMaxScaler()\n",
    "data = numpy.array(data).reshape(-1,1)\n",
    "data = scaler.fit_transform(data)"
   ]
  },
  {
   "cell_type": "code",
   "execution_count": 113,
   "metadata": {
    "pycharm": {
     "is_executing": false
    }
   },
   "outputs": [
    {
     "data": {
      "text/plain": "<Figure size 432x288 with 1 Axes>",
      "image/png": "[encoded data removed]"
     },
     "metadata": {
      "needs_background": "light"
     },
     "output_type": "display_data"
    }
   ],
   "source": [
    "# Результат\n",
    "matplotlib.pyplot.hist(data, bins = 50)\n",
    "matplotlib.pyplot.show()"
   ]
  },
  {
   "cell_type": "code",
   "execution_count": 114,
   "metadata": {
    "scrolled": true,
    "pycharm": {
     "is_executing": false
    }
   },
   "outputs": [
    {
     "data": {
      "text/plain": "<Figure size 432x288 with 1 Axes>",
      "image/png": "[encoded data removed]"
     },
     "metadata": {
      "needs_background": "light"
     },
     "output_type": "display_data"
    }
   ],
   "source": [
    "# Можем взглянуть на сами данные\n",
    "matplotlib.pyplot.plot(data)\n",
    "matplotlib.pyplot.show()"
   ]
  },
  {
   "cell_type": "code",
   "execution_count": 115,
   "metadata": {
    "scrolled": true,
    "pycharm": {
     "is_executing": false
    }
   },
   "outputs": [
    {
     "name": "stdout",
     "text": [
      "2\n"
     ],
     "output_type": "stream"
    }
   ],
   "source": [
    "# Проверяем и убеждаемся, что в процессе трансформации данные получили \"лишнее\" измерение\n",
    "print(data.ndim)"
   ]
  },
  {
   "cell_type": "code",
   "execution_count": 116,
   "metadata": {
    "pycharm": {
     "is_executing": false
    }
   },
   "outputs": [],
   "source": [
    "# Конвертируем в одномерный массив\n",
    "data = data.flatten()"
   ]
  },
  {
   "cell_type": "code",
   "execution_count": 117,
   "metadata": {
    "pycharm": {
     "is_executing": false
    }
   },
   "outputs": [],
   "source": [
    "# Сохраняем в итоговом наборе данных\n",
    "dataset['MMIN'] = data"
   ]
  },
  {
   "cell_type": "code",
   "execution_count": 118,
   "metadata": {
    "scrolled": true,
    "pycharm": {
     "is_executing": false
    }
   },
   "outputs": [
    {
     "data": {
      "text/plain": "<Figure size 432x288 with 1 Axes>",
      "image/png": "[encoded data removed]"
     },
     "metadata": {
      "needs_background": "light"
     },
     "output_type": "display_data"
    }
   ],
   "source": [
    "# Обработка данных в столбце №7 (CHMAX: maximum channels in units (integer))\n",
    "\n",
    "# Загружаем данные\n",
    "data = row_dataset[7]\n",
    "\n",
    "# Анализируем распределение, используя гистограмму. Параметр bins отвечает за число столбцов в гистрограмме.\n",
    "matplotlib.pyplot.hist(data, bins = 50)\n",
    "matplotlib.pyplot.show()"
   ]
  },
  {
   "cell_type": "code",
   "execution_count": 119,
   "metadata": {
    "scrolled": false,
    "pycharm": {
     "is_executing": false
    }
   },
   "outputs": [
    {
     "data": {
      "text/plain": "<Figure size 432x288 with 1 Axes>",
      "image/png": "[encoded data removed]"
     },
     "metadata": {
      "needs_background": "light"
     },
     "output_type": "display_data"
    }
   ],
   "source": [
    "# Наблюдаем проблему №4 - выбросы значений в интервале (100, 175). Применяем отсечение с разрешенным интервалом от 0 до 70.\n",
    "data = numpy.clip(data, 0, 70)\n",
    "\n",
    "# Результат\n",
    "matplotlib.pyplot.hist(data, bins = 50)\n",
    "matplotlib.pyplot.show()"
   ]
  },
  {
   "cell_type": "code",
   "execution_count": 120,
   "metadata": {
    "scrolled": true,
    "pycharm": {
     "is_executing": false
    }
   },
   "outputs": [
    {
     "data": {
      "text/plain": "<Figure size 432x288 with 1 Axes>",
      "image/png": "[encoded data removed]"
     },
     "metadata": {
      "needs_background": "light"
     },
     "output_type": "display_data"
    }
   ],
   "source": [
    "# Наблюдаем проблему №3 - очень неравномерное распределение. Применять логарифм нельзя, т.к. среди значений есть нули.\n",
    "# Применим извлечение квадратного корня.\n",
    "\n",
    "matplotlib.pyplot.hist(data ** 0.5, bins = 50)\n",
    "matplotlib.pyplot.show()"
   ]
  },
  {
   "cell_type": "code",
   "execution_count": 121,
   "metadata": {
    "pycharm": {
     "is_executing": false
    }
   },
   "outputs": [],
   "source": [
    "data = data ** 0.5"
   ]
  },
  {
   "cell_type": "code",
   "execution_count": 122,
   "metadata": {
    "scrolled": true,
    "pycharm": {
     "is_executing": false
    }
   },
   "outputs": [
    {
     "name": "stdout",
     "text": [
      "0.0\n",
      "8.366600265340756\n"
     ],
     "output_type": "stream"
    }
   ],
   "source": [
    "# Теперь данные имеют следующую область значений\n",
    "print(numpy.min(data))\n",
    "print(numpy.max(data))"
   ]
  },
  {
   "cell_type": "code",
   "execution_count": 123,
   "metadata": {
    "pycharm": {
     "is_executing": false
    }
   },
   "outputs": [],
   "source": [
    "# Приводим значения к интервалу (0, 1), считая, что они ближе к равномерному распределению\n",
    "scaler = MinMaxScaler()\n",
    "data = numpy.array(data).reshape(-1,1)\n",
    "data = scaler.fit_transform(data)"
   ]
  },
  {
   "cell_type": "code",
   "execution_count": 124,
   "metadata": {
    "pycharm": {
     "is_executing": false
    }
   },
   "outputs": [
    {
     "data": {
      "text/plain": "<Figure size 432x288 with 1 Axes>",
      "image/png": "[encoded data removed]"
     },
     "metadata": {
      "needs_background": "light"
     },
     "output_type": "display_data"
    }
   ],
   "source": [
    "# Результат\n",
    "matplotlib.pyplot.hist(data, bins = 50)\n",
    "matplotlib.pyplot.show()"
   ]
  },
  {
   "cell_type": "code",
   "execution_count": 125,
   "metadata": {
    "scrolled": true,
    "pycharm": {
     "is_executing": false
    }
   },
   "outputs": [
    {
     "data": {
      "text/plain": "<Figure size 432x288 with 1 Axes>",
      "image/png": "[encoded data removed]"
     },
     "metadata": {
      "needs_background": "light"
     },
     "output_type": "display_data"
    }
   ],
   "source": [
    "# Можем взглянуть на сами данные\n",
    "matplotlib.pyplot.plot(data)\n",
    "matplotlib.pyplot.show()"
   ]
  },
  {
   "cell_type": "code",
   "execution_count": 126,
   "metadata": {
    "scrolled": true,
    "pycharm": {
     "is_executing": false
    }
   },
   "outputs": [
    {
     "name": "stdout",
     "text": [
      "2\n"
     ],
     "output_type": "stream"
    }
   ],
   "source": [
    "# Проверяем и убеждаемся, что в процессе трансформации данные получили \"лишнее\" измерение\n",
    "print(data.ndim)"
   ]
  },
  {
   "cell_type": "code",
   "execution_count": 127,
   "metadata": {
    "pycharm": {
     "is_executing": false
    }
   },
   "outputs": [],
   "source": [
    "# Конвертируем в одномерный массив\n",
    "data = data.flatten()"
   ]
  },
  {
   "cell_type": "code",
   "execution_count": 128,
   "metadata": {
    "pycharm": {
     "is_executing": false
    }
   },
   "outputs": [],
   "source": [
    "# Сохраняем в итоговом наборе данных\n",
    "dataset['CHMAX'] = data"
   ]
  },
  {
   "cell_type": "code",
   "execution_count": 129,
   "metadata": {
    "scrolled": true,
    "pycharm": {
     "is_executing": false
    }
   },
   "outputs": [
    {
     "name": "stdout",
     "text": [
      "         MMIN     CHMAX\n",
      "0    0.251074  1.000000\n",
      "1    0.874463  0.676123\n",
      "2    0.874463  0.676123\n",
      "3    0.874463  0.676123\n",
      "4    0.874463  0.478091\n",
      "..        ...       ...\n",
      "204  0.497852  0.338062\n",
      "205  0.497852  0.338062\n",
      "206  0.623389  0.447214\n",
      "207  0.376611  0.000000\n",
      "208  0.497852  0.000000\n",
      "\n",
      "[209 rows x 2 columns]\n"
     ],
     "output_type": "stream"
    }
   ],
   "source": [
    "print(dataset)"
   ]
  },
  {
   "cell_type": "code",
   "execution_count": 130,
   "outputs": [
    {
     "data": {
      "text/plain": "<Figure size 432x288 with 1 Axes>",
      "image/png": "[encoded data removed]"
     },
     "metadata": {
      "needs_background": "light"
     },
     "output_type": "display_data"
    }
   ],
   "source": [
    "# Обработка данных в столбце №4\n",
    "\n",
    "# Загружаем данные\n",
    "data = row_dataset[4]\n",
    "\n",
    "# Анализируем распределение\n",
    "matplotlib.pyplot.hist(data, bins = 50)\n",
    "matplotlib.pyplot.show()\n"
   ],
   "metadata": {
    "collapsed": false,
    "pycharm": {
     "name": "#%%\n",
     "is_executing": false
    }
   }
  },
  {
   "cell_type": "code",
   "execution_count": 131,
   "outputs": [
    {
     "data": {
      "text/plain": "<Figure size 432x288 with 1 Axes>",
      "image/png": "[encoded data removed]"
     },
     "metadata": {
      "needs_background": "light"
     },
     "output_type": "display_data"
    }
   ],
   "source": [
    "data = numpy.clip(data,0,30000)\n",
    "matplotlib.pyplot.hist(data, bins = 50)\n",
    "matplotlib.pyplot.show()"
   ],
   "metadata": {
    "collapsed": false,
    "pycharm": {
     "name": "#%%\n",
     "is_executing": false
    }
   }
  },
  {
   "cell_type": "code",
   "execution_count": 132,
   "outputs": [
    {
     "data": {
      "text/plain": "<Figure size 432x288 with 1 Axes>",
      "image/png": "[encoded data removed]"
     },
     "metadata": {
      "needs_background": "light"
     },
     "output_type": "display_data"
    }
   ],
   "source": [
    "matplotlib.pyplot.hist(data ** 0.5, bins = 50)\n",
    "matplotlib.pyplot.show()\n",
    "data = data ** 0.5"
   ],
   "metadata": {
    "collapsed": false,
    "pycharm": {
     "name": "#%%\n",
     "is_executing": false
    }
   }
  },
  {
   "cell_type": "code",
   "execution_count": 133,
   "outputs": [],
   "source": [
    "# Приводим значения к интервалу (0, 1), считая, что они ближе к равномерному распределению\n",
    "data = numpy.array(data).reshape(-1,1)\n",
    "data = MinMaxScaler().fit_transform(data)"
   ],
   "metadata": {
    "collapsed": false,
    "pycharm": {
     "name": "#%%\n",
     "is_executing": false
    }
   }
  },
  {
   "cell_type": "code",
   "execution_count": 134,
   "outputs": [
    {
     "data": {
      "text/plain": "<Figure size 432x288 with 1 Axes>",
      "image/png": "[encoded data removed]"
     },
     "metadata": {
      "needs_background": "light"
     },
     "output_type": "display_data"
    }
   ],
   "source": [
    "# Результат\n",
    "matplotlib.pyplot.hist(data, bins = 50)\n",
    "matplotlib.pyplot.show()\n",
    "data = data.flatten()\n",
    "dataset['MMAX'] = data"
   ],
   "metadata": {
    "collapsed": false,
    "pycharm": {
     "name": "#%%\n",
     "is_executing": false
    }
   }
  },
  {
   "cell_type": "code",
   "execution_count": 135,
   "outputs": [
    {
     "name": "stdout",
     "text": [
      "         MMIN     CHMAX      MMAX\n",
      "0    0.251074  1.000000  0.420445\n",
      "1    0.874463  0.676123  1.000000\n",
      "2    0.874463  0.676123  1.000000\n",
      "3    0.874463  0.676123  1.000000\n",
      "4    0.874463  0.478091  0.717236\n",
      "..        ...       ...       ...\n",
      "204  0.497852  0.338062  0.492980\n",
      "205  0.497852  0.338062  0.492980\n",
      "206  0.623389  0.447214  0.492980\n",
      "207  0.376611  0.000000  0.492980\n",
      "208  0.497852  0.000000  0.334406\n",
      "\n",
      "[209 rows x 3 columns]\n"
     ],
     "output_type": "stream"
    }
   ],
   "source": [
    "print(dataset)"
   ],
   "metadata": {
    "collapsed": false,
    "pycharm": {
     "name": "#%%\n",
     "is_executing": false
    }
   }
  },
  {
   "cell_type": "code",
   "execution_count": 136,
   "outputs": [
    {
     "data": {
      "text/plain": "<Figure size 432x288 with 1 Axes>",
      "image/png": "[encoded data removed]"
     },
     "metadata": {
      "needs_background": "light"
     },
     "output_type": "display_data"
    }
   ],
   "source": [
    "#Обработка столбца №5\n",
    "\n",
    "data = row_dataset[5]\n",
    "matplotlib.pyplot.hist(data, bins = 50)\n",
    "matplotlib.pyplot.show()"
   ],
   "metadata": {
    "collapsed": false,
    "pycharm": {
     "name": "#%%\n",
     "is_executing": false
    }
   }
  },
  {
   "cell_type": "code",
   "execution_count": 137,
   "outputs": [
    {
     "data": {
      "text/plain": "<Figure size 432x288 with 1 Axes>",
      "image/png": "[encoded data removed]"
     },
     "metadata": {
      "needs_background": "light"
     },
     "output_type": "display_data"
    }
   ],
   "source": [
    "data = numpy.clip(data, 0, 150)\n",
    "matplotlib.pyplot.hist(data, bins=50)\n",
    "matplotlib.pyplot.show()"
   ],
   "metadata": {
    "collapsed": false,
    "pycharm": {
     "name": "#%%\n",
     "is_executing": false
    }
   }
  },
  {
   "cell_type": "code",
   "execution_count": 138,
   "outputs": [
    {
     "data": {
      "text/plain": "<Figure size 432x288 with 1 Axes>",
      "image/png": "[encoded data removed]"
     },
     "metadata": {
      "needs_background": "light"
     },
     "output_type": "display_data"
    }
   ],
   "source": [
    "\n",
    "matplotlib.pyplot.hist(data**0.5, bins=50)\n",
    "matplotlib.pyplot.show()\n",
    "data = data**0.5"
   ],
   "metadata": {
    "collapsed": false,
    "pycharm": {
     "name": "#%%\n",
     "is_executing": false
    }
   }
  },
  {
   "cell_type": "code",
   "execution_count": 139,
   "outputs": [],
   "source": [
    "data = numpy.array(data).reshape(-1,1)\n",
    "data = MinMaxScaler().fit_transform(data)\n",
    "data = data.flatten()\n",
    "dataset['CACH'] = data"
   ],
   "metadata": {
    "collapsed": false,
    "pycharm": {
     "name": "#%%\n",
     "is_executing": false
    }
   }
  },
  {
   "cell_type": "code",
   "execution_count": 140,
   "outputs": [
    {
     "name": "stdout",
     "text": [
      "         MMIN     CHMAX      MMAX     CACH\n",
      "0    0.251074  1.000000  0.420445  1.00000\n",
      "1    0.874463  0.676123  1.000000  0.46188\n",
      "2    0.874463  0.676123  1.000000  0.46188\n",
      "3    0.874463  0.676123  1.000000  0.46188\n",
      "4    0.874463  0.478091  0.717236  0.46188\n",
      "..        ...       ...       ...      ...\n",
      "204  0.497852  0.338062  0.492980  0.00000\n",
      "205  0.497852  0.338062  0.492980  0.46188\n",
      "206  0.623389  0.447214  0.492980  0.00000\n",
      "207  0.376611  0.000000  0.492980  0.46188\n",
      "208  0.497852  0.000000  0.334406  0.00000\n",
      "\n",
      "[209 rows x 4 columns]\n"
     ],
     "output_type": "stream"
    }
   ],
   "source": [
    "print(dataset)"
   ],
   "metadata": {
    "collapsed": false,
    "pycharm": {
     "name": "#%%\n",
     "is_executing": false
    }
   }
  },
  {
   "cell_type": "code",
   "execution_count": 141,
   "outputs": [
    {
     "data": {
      "text/plain": "<Figure size 432x288 with 1 Axes>",
      "image/png": "[encoded data removed]"
     },
     "metadata": {
      "needs_background": "light"
     },
     "output_type": "display_data"
    }
   ],
   "source": [
    "#Анализ столбца №6\n",
    "data = row_dataset[6]\n",
    "\n",
    "# Анализируем распределение\n",
    "matplotlib.pyplot.hist(data, bins = 50)\n",
    "matplotlib.pyplot.show()"
   ],
   "metadata": {
    "collapsed": false,
    "pycharm": {
     "name": "#%%\n",
     "is_executing": false
    }
   }
  },
  {
   "cell_type": "code",
   "execution_count": 142,
   "outputs": [
    {
     "data": {
      "text/plain": "<Figure size 432x288 with 1 Axes>",
      "image/png": "[encoded data removed]"
     },
     "metadata": {
      "needs_background": "light"
     },
     "output_type": "display_data"
    }
   ],
   "source": [
    "data = numpy.clip(data, 0, 20)\n",
    "matplotlib.pyplot.hist(data, bins = 50)\n",
    "matplotlib.pyplot.show()"
   ],
   "metadata": {
    "collapsed": false,
    "pycharm": {
     "name": "#%%\n",
     "is_executing": false
    }
   }
  },
  {
   "cell_type": "code",
   "execution_count": 143,
   "outputs": [
    {
     "data": {
      "text/plain": "<Figure size 432x288 with 1 Axes>",
      "image/png": "[encoded data removed]"
     },
     "metadata": {
      "needs_background": "light"
     },
     "output_type": "display_data"
    }
   ],
   "source": [
    "matplotlib.pyplot.hist(data**0.5, bins = 50)\n",
    "matplotlib.pyplot.show()\n",
    "data = data**0.5"
   ],
   "metadata": {
    "collapsed": false,
    "pycharm": {
     "name": "#%%\n",
     "is_executing": false
    }
   }
  },
  {
   "cell_type": "code",
   "execution_count": 144,
   "outputs": [],
   "source": [
    "data = numpy.array(data).reshape(-1,1)\n",
    "data = MinMaxScaler().fit_transform(data)\n",
    "data = data.flatten()\n",
    "dataset['CHMIN'] = data"
   ],
   "metadata": {
    "collapsed": false,
    "pycharm": {
     "name": "#%%\n",
     "is_executing": false
    }
   }
  },
  {
   "cell_type": "code",
   "execution_count": 145,
   "outputs": [
    {
     "name": "stdout",
     "text": [
      "         MMIN     CHMAX      MMAX     CACH     CHMIN\n",
      "0    0.251074  1.000000  0.420445  1.00000  0.894427\n",
      "1    0.874463  0.676123  1.000000  0.46188  0.632456\n",
      "2    0.874463  0.676123  1.000000  0.46188  0.632456\n",
      "3    0.874463  0.676123  1.000000  0.46188  0.632456\n",
      "4    0.874463  0.478091  0.717236  0.46188  0.632456\n",
      "..        ...       ...       ...      ...       ...\n",
      "204  0.497852  0.338062  0.492980  0.00000  0.223607\n",
      "205  0.497852  0.338062  0.492980  0.46188  0.316228\n",
      "206  0.623389  0.447214  0.492980  0.00000  0.316228\n",
      "207  0.376611  0.000000  0.492980  0.46188  0.000000\n",
      "208  0.497852  0.000000  0.334406  0.00000  0.000000\n",
      "\n",
      "[209 rows x 5 columns]\n"
     ],
     "output_type": "stream"
    }
   ],
   "source": [
    "print(dataset)"
   ],
   "metadata": {
    "collapsed": false,
    "pycharm": {
     "name": "#%%\n",
     "is_executing": false
    }
   }
  },
  {
   "cell_type": "code",
   "execution_count": 146,
   "outputs": [
    {
     "data": {
      "text/plain": "<Figure size 432x288 with 1 Axes>",
      "image/png": "[encoded data removed]"
     },
     "metadata": {
      "needs_background": "light"
     },
     "output_type": "display_data"
    }
   ],
   "source": [
    "#Анализ столбца №8\n",
    "data = row_dataset[8]\n",
    "\n",
    "matplotlib.pyplot.hist(data, bins = 50)\n",
    "matplotlib.pyplot.show()"
   ],
   "metadata": {
    "collapsed": false,
    "pycharm": {
     "name": "#%%\n",
     "is_executing": false
    }
   }
  },
  {
   "cell_type": "code",
   "execution_count": 147,
   "outputs": [
    {
     "data": {
      "text/plain": "<Figure size 432x288 with 1 Axes>",
      "image/png": "[encoded data removed]"
     },
     "metadata": {
      "needs_background": "light"
     },
     "output_type": "display_data"
    }
   ],
   "source": [
    "data = numpy.clip(data, 0, 600)\n",
    "matplotlib.pyplot.hist(data, bins = 50)\n",
    "matplotlib.pyplot.show()"
   ],
   "metadata": {
    "collapsed": false,
    "pycharm": {
     "name": "#%%\n",
     "is_executing": false
    }
   }
  },
  {
   "cell_type": "code",
   "execution_count": 148,
   "outputs": [
    {
     "data": {
      "text/plain": "<Figure size 432x288 with 1 Axes>",
      "image/png": "[encoded data removed]"
     },
     "metadata": {
      "needs_background": "light"
     },
     "output_type": "display_data"
    },
    {
     "data": {
      "text/plain": "<Figure size 432x288 with 1 Axes>",
      "image/png": "[encoded data removed]"
     },
     "metadata": {
      "needs_background": "light"
     },
     "output_type": "display_data"
    }
   ],
   "source": [
    "matplotlib.pyplot.hist(data**0.5, bins = 50)\n",
    "matplotlib.pyplot.show()\n",
    "\n",
    "\n",
    "matplotlib.pyplot.hist(numpy.log(data), bins = 50)\n",
    "matplotlib.pyplot.show()\n",
    "\n",
    "data = numpy.log(data)"
   ],
   "metadata": {
    "collapsed": false,
    "pycharm": {
     "name": "#%%\n",
     "is_executing": false
    }
   }
  },
  {
   "cell_type": "code",
   "execution_count": 149,
   "outputs": [],
   "source": [
    "data = numpy.array(data).reshape(-1,1)\n",
    "data = StandardScaler().fit_transform(data)\n",
    "data =  data.flatten()\n",
    "dataset['PRP'] = data"
   ],
   "metadata": {
    "collapsed": false,
    "pycharm": {
     "name": "#%%\n",
     "is_executing": false
    }
   }
  },
  {
   "cell_type": "code",
   "execution_count": 150,
   "outputs": [
    {
     "name": "stdout",
     "text": [
      "         MMIN     CHMAX      MMAX     CACH     CHMIN       PRP\n",
      "0    0.251074  1.000000  0.420445  1.00000  0.894427  1.229905\n",
      "1    0.874463  0.676123  1.000000  0.46188  0.632456  1.529143\n",
      "2    0.874463  0.676123  1.000000  0.46188  0.632456  1.332788\n",
      "3    0.874463  0.676123  1.000000  0.46188  0.632456  1.092443\n",
      "4    0.874463  0.478091  0.717236  0.46188  0.632456  0.833975\n",
      "..        ...       ...       ...      ...       ...       ...\n",
      "204  0.497852  0.338062  0.492980  0.00000  0.223607 -0.284229\n",
      "205  0.497852  0.338062  0.492980  0.46188  0.316228 -0.195397\n",
      "206  0.623389  0.447214  0.492980  0.00000  0.316228 -0.075677\n",
      "207  0.376611  0.000000  0.492980  0.46188  0.000000  0.171812\n",
      "208  0.497852  0.000000  0.334406  0.00000  0.000000 -0.216859\n",
      "\n",
      "[209 rows x 6 columns]\n"
     ],
     "output_type": "stream"
    }
   ],
   "source": [
    "print(dataset)"
   ],
   "metadata": {
    "collapsed": false,
    "pycharm": {
     "name": "#%%\n",
     "is_executing": false
    }
   }
  },
  {
   "cell_type": "code",
   "execution_count": 151,
   "outputs": [
    {
     "name": "stdout",
     "text": [
      "(array([ 0,  1,  1,  1,  1,  1,  1,  1,  1,  1,  2,  2,  3,  3,  4,  4,  5,\n",
      "        5,  5,  5,  5,  5,  5,  5,  6,  6,  6,  6,  6,  6,  7,  7,  7,  7,\n",
      "        7,  7,  7,  7,  7,  8,  8,  8,  8,  8,  9,  9,  9,  9,  9,  9, 10,\n",
      "       10, 10, 10, 10, 10, 10, 11, 11, 11, 11, 11, 12, 13, 13, 13, 14, 14,\n",
      "       14, 14, 14, 14, 14, 15, 15, 15, 15, 15, 15, 15, 16, 16, 16, 16, 16,\n",
      "       16, 16, 16, 16, 16, 16, 16, 16, 17, 17, 17, 17, 17, 17, 17, 17, 17,\n",
      "       17, 17, 17, 17, 17, 17, 17, 17, 17, 17, 17, 17, 17, 17, 17, 17, 17,\n",
      "       17, 17, 17, 17, 17, 17, 18, 18, 18, 18, 18, 18, 19, 19, 19, 19, 19,\n",
      "       19, 20, 21, 21, 21, 21, 21, 21, 21, 21, 21, 21, 21, 21, 21, 21, 21,\n",
      "       21, 21, 21, 21, 22, 22, 22, 22, 22, 22, 22, 22, 22, 22, 22, 22, 22,\n",
      "       23, 23, 23, 24, 24, 24, 25, 25, 25, 25, 25, 26, 26, 26, 26, 26, 26,\n",
      "       26, 26, 26, 26, 26, 26, 27, 27, 27, 27, 27, 27, 27, 27, 27, 27, 27,\n",
      "       27, 27, 28, 29, 29], dtype=int32), Index(['adviser', 'amdahl', 'apollo', 'basf', 'bti', 'burroughs', 'c.r.d',\n",
      "       'cdc', 'cambex', 'dec', 'dg', 'formation', 'four-phase', 'gould', 'hp',\n",
      "       'harris', 'honeywell', 'ibm', 'ipl', 'magnuson', 'microdata', 'nas',\n",
      "       'ncr', 'nixdorf', 'perkin-elmer', 'prime', 'siemens', 'sperry',\n",
      "       'sratus', 'wang'],\n",
      "      dtype='object'))\n"
     ],
     "output_type": "stream"
    },
    {
     "data": {
      "text/plain": "<Figure size 432x288 with 1 Axes>",
      "image/png": "[encoded data removed]"
     },
     "metadata": {
      "needs_background": "light"
     },
     "output_type": "display_data"
    }
   ],
   "source": [
    "#Столбец №0\n",
    "data = row_dataset[0]\n",
    "data = pandas.factorize(data)# слова стали цифрами\n",
    "print(data)\n",
    "matplotlib.pyplot.hist(data[0], bins = 50)\n",
    "matplotlib.pyplot.show()"
   ],
   "metadata": {
    "collapsed": false,
    "pycharm": {
     "name": "#%%\n",
     "is_executing": false
    }
   }
  },
  {
   "cell_type": "code",
   "execution_count": 152,
   "outputs": [],
   "source": [
    "data = data[0]\n",
    "data = numpy.array(data).reshape(-1,1)\n",
    "data = MinMaxScaler().fit_transform(data)\n",
    "data = data.flatten()\n",
    "dataset['MYCT'] = data"
   ],
   "metadata": {
    "collapsed": false,
    "pycharm": {
     "name": "#%%\n",
     "is_executing": false
    }
   }
  },
  {
   "cell_type": "code",
   "execution_count": 153,
   "outputs": [
    {
     "name": "stdout",
     "text": [
      "         MMIN     CHMAX      MMAX     CACH     CHMIN       PRP      MYCT\n",
      "0    0.251074  1.000000  0.420445  1.00000  0.894427  1.229905  0.000000\n",
      "1    0.874463  0.676123  1.000000  0.46188  0.632456  1.529143  0.034483\n",
      "2    0.874463  0.676123  1.000000  0.46188  0.632456  1.332788  0.034483\n",
      "3    0.874463  0.676123  1.000000  0.46188  0.632456  1.092443  0.034483\n",
      "4    0.874463  0.478091  0.717236  0.46188  0.632456  0.833975  0.034483\n",
      "..        ...       ...       ...      ...       ...       ...       ...\n",
      "204  0.497852  0.338062  0.492980  0.00000  0.223607 -0.284229  0.931034\n",
      "205  0.497852  0.338062  0.492980  0.46188  0.316228 -0.195397  0.931034\n",
      "206  0.623389  0.447214  0.492980  0.00000  0.316228 -0.075677  0.965517\n",
      "207  0.376611  0.000000  0.492980  0.46188  0.000000  0.171812  1.000000\n",
      "208  0.497852  0.000000  0.334406  0.00000  0.000000 -0.216859  1.000000\n",
      "\n",
      "[209 rows x 7 columns]\n"
     ],
     "output_type": "stream"
    },
    {
     "data": {
      "text/plain": "<Figure size 432x288 with 9 Axes>",
      "image/png": "[encoded data removed]"
     },
     "metadata": {
      "needs_background": "light"
     },
     "output_type": "display_data"
    }
   ],
   "source": [
    "print(dataset)\n",
    "dataset.hist()\n",
    "matplotlib.pyplot.show()"
   ],
   "metadata": {
    "collapsed": false,
    "pycharm": {
     "name": "#%%\n",
     "is_executing": false
    }
   }
  }
 ],
 "metadata": {
  "kernelspec": {
   "display_name": "Python 3",
   "language": "python",
   "name": "python3"
  },
  "language_info": {
   "codemirror_mode": {
    "name": "ipython",
    "version": 3
   },
   "file_extension": ".py",
   "mimetype": "text/x-python",
   "name": "python",
   "nbconvert_exporter": "python",
   "pygments_lexer": "ipython3",
   "version": "3.7.4"
  },
  "pycharm": {
   "stem_cell": {
    "cell_type": "raw",
    "source": [],
    "metadata": {
     "collapsed": false
    }
   }
  }
 },
 "nbformat": 4,
 "nbformat_minor": 2
}